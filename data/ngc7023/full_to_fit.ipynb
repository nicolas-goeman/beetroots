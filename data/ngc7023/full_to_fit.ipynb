{
 "cells": [
  {
   "cell_type": "code",
   "execution_count": 1,
   "metadata": {},
   "outputs": [],
   "source": [
    "import numpy as np\n",
    "import pandas as pd"
   ]
  },
  {
   "cell_type": "code",
   "execution_count": 2,
   "metadata": {},
   "outputs": [],
   "source": [
    "def _read_observation_file(filename):\n",
    "    df = pd.read_csv(filename, sep=r\"\\s+\")\n",
    "    return df\n",
    "\n",
    "\n",
    "def write_data(df, filename_out):\n",
    "    \"\"\"writes the data extracted from input and result files to\n",
    "    filename_out\n",
    "\n",
    "    Parameters\n",
    "    ----------\n",
    "    df : pd.DataFrame\n",
    "        data to be written\n",
    "    filename_out : string\n",
    "        name of the output file in which the data should be written\n",
    "    \"\"\"\n",
    "    header = \"   \".join(df.columns) + \"\\n\"\n",
    "\n",
    "    with open(filename_out, \"w\") as f:\n",
    "        f.write(header)\n",
    "\n",
    "    # convert the list of dicts to a dataframe\n",
    "    for col in df.columns[1:]:\n",
    "        df[col] = df[col].apply(lambda x: f\"{float(x):.4E}\")\n",
    "\n",
    "    # fuse the columns of the dataframe\n",
    "    df_1col = df.apply(lambda row: \"   \".join(list(row)) + \"\\n\", 1)\n",
    "\n",
    "    # save to output file\n",
    "    with open(filename_out, \"a\") as f:\n",
    "        for i in range(len(df_1col)):\n",
    "            f.write(df_1col.at[i])"
   ]
  },
  {
   "cell_type": "code",
   "execution_count": 9,
   "metadata": {},
   "outputs": [
    {
     "data": {
      "text/html": [
       "<div>\n",
       "<style scoped>\n",
       "    .dataframe tbody tr th:only-of-type {\n",
       "        vertical-align: middle;\n",
       "    }\n",
       "\n",
       "    .dataframe tbody tr th {\n",
       "        vertical-align: top;\n",
       "    }\n",
       "\n",
       "    .dataframe thead th {\n",
       "        text-align: right;\n",
       "    }\n",
       "</style>\n",
       "<table border=\"1\" class=\"dataframe\">\n",
       "  <thead>\n",
       "    <tr style=\"text-align: right;\">\n",
       "      <th></th>\n",
       "      <th>X_Y</th>\n",
       "      <th>CO_(4-3)</th>\n",
       "      <th>CO_(5-4)</th>\n",
       "      <th>CO_(6-5)</th>\n",
       "      <th>CO_(7-6)</th>\n",
       "      <th>CO_(8-7)</th>\n",
       "      <th>CO_(9-8)</th>\n",
       "      <th>CO_(10-9)</th>\n",
       "      <th>CO_(11-10)</th>\n",
       "      <th>CO_(12-11)</th>\n",
       "      <th>...</th>\n",
       "      <th>HD_112_microns</th>\n",
       "      <th>H2_0-0_S(0)</th>\n",
       "      <th>H2_0-0_S(1)</th>\n",
       "      <th>H2_0-0_S(2)</th>\n",
       "      <th>H2_0-0_S(3)</th>\n",
       "      <th>H2_0-0_S(4)</th>\n",
       "      <th>H2_0-0_S(5)</th>\n",
       "      <th>H2_1-0_S(1)</th>\n",
       "      <th>H2_1-0_S(2)</th>\n",
       "      <th>H2_2-1_S(1)/1-0_S(1)</th>\n",
       "    </tr>\n",
       "  </thead>\n",
       "  <tbody>\n",
       "    <tr>\n",
       "      <th>0</th>\n",
       "      <td>00_00</td>\n",
       "      <td>2.800000e-08</td>\n",
       "      <td>5.300000e-08</td>\n",
       "      <td>1.100000e-07</td>\n",
       "      <td>2.000000e-07</td>\n",
       "      <td>2.000000e-07</td>\n",
       "      <td>3.100000e-07</td>\n",
       "      <td>2.500000e-07</td>\n",
       "      <td>3.500000e-07</td>\n",
       "      <td>2.700000e-07</td>\n",
       "      <td>...</td>\n",
       "      <td>7.500000e-09</td>\n",
       "      <td>1.300000e-07</td>\n",
       "      <td>9.100000e-07</td>\n",
       "      <td>9.700000e-07</td>\n",
       "      <td>0.000001</td>\n",
       "      <td>5.900000e-07</td>\n",
       "      <td>9.200000e-07</td>\n",
       "      <td>2.100000e-07</td>\n",
       "      <td>7.600000e-08</td>\n",
       "      <td>0.29</td>\n",
       "    </tr>\n",
       "  </tbody>\n",
       "</table>\n",
       "<p>1 rows × 44 columns</p>\n",
       "</div>"
      ],
      "text/plain": [
       "     X_Y      CO_(4-3)      CO_(5-4)      CO_(6-5)      CO_(7-6)  \\\n",
       "0  00_00  2.800000e-08  5.300000e-08  1.100000e-07  2.000000e-07   \n",
       "\n",
       "       CO_(8-7)      CO_(9-8)     CO_(10-9)    CO_(11-10)    CO_(12-11)  ...  \\\n",
       "0  2.000000e-07  3.100000e-07  2.500000e-07  3.500000e-07  2.700000e-07  ...   \n",
       "\n",
       "   HD_112_microns   H2_0-0_S(0)   H2_0-0_S(1)   H2_0-0_S(2)  H2_0-0_S(3)  \\\n",
       "0    7.500000e-09  1.300000e-07  9.100000e-07  9.700000e-07     0.000001   \n",
       "\n",
       "    H2_0-0_S(4)   H2_0-0_S(5)   H2_1-0_S(1)   H2_1-0_S(2)  \\\n",
       "0  5.900000e-07  9.200000e-07  2.100000e-07  7.600000e-08   \n",
       "\n",
       "   H2_2-1_S(1)/1-0_S(1)  \n",
       "0                  0.29  \n",
       "\n",
       "[1 rows x 44 columns]"
      ]
     },
     "execution_count": 9,
     "metadata": {},
     "output_type": "execute_result"
    }
   ],
   "source": [
    "mode = \"Int\"\n",
    "df = _read_observation_file(f\"./Nebula_NGC_7023_{mode}_full.dat\")\n",
    "df.head()"
   ]
  },
  {
   "cell_type": "code",
   "execution_count": 10,
   "metadata": {},
   "outputs": [
    {
     "name": "stderr",
     "output_type": "stream",
     "text": [
      "/tmp/ipykernel_519743/687504521.py:3: FutureWarning: In a future version of pandas all arguments of DataFrame.drop except for the argument 'labels' will be keyword-only.\n",
      "  df = df.drop([\"X_Y\"], 1)\n"
     ]
    },
    {
     "data": {
      "text/html": [
       "<div>\n",
       "<style scoped>\n",
       "    .dataframe tbody tr th:only-of-type {\n",
       "        vertical-align: middle;\n",
       "    }\n",
       "\n",
       "    .dataframe tbody tr th {\n",
       "        vertical-align: top;\n",
       "    }\n",
       "\n",
       "    .dataframe thead th {\n",
       "        text-align: right;\n",
       "    }\n",
       "</style>\n",
       "<table border=\"1\" class=\"dataframe\">\n",
       "  <thead>\n",
       "    <tr style=\"text-align: right;\">\n",
       "      <th></th>\n",
       "      <th></th>\n",
       "      <th>CO_(4-3)</th>\n",
       "      <th>CO_(5-4)</th>\n",
       "      <th>CO_(6-5)</th>\n",
       "      <th>CO_(7-6)</th>\n",
       "      <th>CO_(8-7)</th>\n",
       "      <th>CO_(9-8)</th>\n",
       "      <th>CO_(10-9)</th>\n",
       "      <th>CO_(11-10)</th>\n",
       "      <th>CO_(12-11)</th>\n",
       "      <th>CO_(13-12)</th>\n",
       "      <th>...</th>\n",
       "      <th>HD_112_microns</th>\n",
       "      <th>H2_0-0_S(0)</th>\n",
       "      <th>H2_0-0_S(1)</th>\n",
       "      <th>H2_0-0_S(2)</th>\n",
       "      <th>H2_0-0_S(3)</th>\n",
       "      <th>H2_0-0_S(4)</th>\n",
       "      <th>H2_0-0_S(5)</th>\n",
       "      <th>H2_1-0_S(1)</th>\n",
       "      <th>H2_1-0_S(2)</th>\n",
       "      <th>H2_2-1_S(1)/1-0_S(1)</th>\n",
       "    </tr>\n",
       "    <tr>\n",
       "      <th>X</th>\n",
       "      <th>Y</th>\n",
       "      <th></th>\n",
       "      <th></th>\n",
       "      <th></th>\n",
       "      <th></th>\n",
       "      <th></th>\n",
       "      <th></th>\n",
       "      <th></th>\n",
       "      <th></th>\n",
       "      <th></th>\n",
       "      <th></th>\n",
       "      <th></th>\n",
       "      <th></th>\n",
       "      <th></th>\n",
       "      <th></th>\n",
       "      <th></th>\n",
       "      <th></th>\n",
       "      <th></th>\n",
       "      <th></th>\n",
       "      <th></th>\n",
       "      <th></th>\n",
       "      <th></th>\n",
       "    </tr>\n",
       "  </thead>\n",
       "  <tbody>\n",
       "    <tr>\n",
       "      <th>0</th>\n",
       "      <th>0</th>\n",
       "      <td>2.800000e-08</td>\n",
       "      <td>5.300000e-08</td>\n",
       "      <td>1.100000e-07</td>\n",
       "      <td>2.000000e-07</td>\n",
       "      <td>2.000000e-07</td>\n",
       "      <td>3.100000e-07</td>\n",
       "      <td>2.500000e-07</td>\n",
       "      <td>3.500000e-07</td>\n",
       "      <td>2.700000e-07</td>\n",
       "      <td>2.400000e-07</td>\n",
       "      <td>...</td>\n",
       "      <td>7.500000e-09</td>\n",
       "      <td>1.300000e-07</td>\n",
       "      <td>9.100000e-07</td>\n",
       "      <td>9.700000e-07</td>\n",
       "      <td>0.000001</td>\n",
       "      <td>5.900000e-07</td>\n",
       "      <td>9.200000e-07</td>\n",
       "      <td>2.100000e-07</td>\n",
       "      <td>7.600000e-08</td>\n",
       "      <td>0.29</td>\n",
       "    </tr>\n",
       "  </tbody>\n",
       "</table>\n",
       "<p>1 rows × 43 columns</p>\n",
       "</div>"
      ],
      "text/plain": [
       "         CO_(4-3)      CO_(5-4)      CO_(6-5)      CO_(7-6)      CO_(8-7)  \\\n",
       "X Y                                                                         \n",
       "0 0  2.800000e-08  5.300000e-08  1.100000e-07  2.000000e-07  2.000000e-07   \n",
       "\n",
       "         CO_(9-8)     CO_(10-9)    CO_(11-10)    CO_(12-11)    CO_(13-12)  \\\n",
       "X Y                                                                         \n",
       "0 0  3.100000e-07  2.500000e-07  3.500000e-07  2.700000e-07  2.400000e-07   \n",
       "\n",
       "     ...  HD_112_microns   H2_0-0_S(0)   H2_0-0_S(1)   H2_0-0_S(2)  \\\n",
       "X Y  ...                                                             \n",
       "0 0  ...    7.500000e-09  1.300000e-07  9.100000e-07  9.700000e-07   \n",
       "\n",
       "     H2_0-0_S(3)   H2_0-0_S(4)   H2_0-0_S(5)   H2_1-0_S(1)   H2_1-0_S(2)  \\\n",
       "X Y                                                                        \n",
       "0 0     0.000001  5.900000e-07  9.200000e-07  2.100000e-07  7.600000e-08   \n",
       "\n",
       "     H2_2-1_S(1)/1-0_S(1)  \n",
       "X Y                        \n",
       "0 0                  0.29  \n",
       "\n",
       "[1 rows x 43 columns]"
      ]
     },
     "execution_count": 10,
     "metadata": {},
     "output_type": "execute_result"
    }
   ],
   "source": [
    "df[\"X\"] = df[\"X_Y\"].apply(lambda x: x.split(\"_\")[0])\n",
    "df[\"Y\"] = df[\"X_Y\"].apply(lambda x: x.split(\"_\")[1])\n",
    "df = df.drop([\"X_Y\"], 1)\n",
    "df = df.astype(float)\n",
    "df[[\"X\", \"Y\"]] = df[[\"X\", \"Y\"]].astype(int)\n",
    "df = df.set_index([\"X\", \"Y\"])\n",
    "df.head()"
   ]
  },
  {
   "cell_type": "code",
   "execution_count": 11,
   "metadata": {},
   "outputs": [],
   "source": [
    "# conversion from W m$^{-2}$ sr$^{-1}$   to  erg cm$^{-2}$ s$^{-1}$ sr$^{-1}$\n",
    "df *= 1e3"
   ]
  },
  {
   "cell_type": "code",
   "execution_count": 12,
   "metadata": {},
   "outputs": [
    {
     "name": "stderr",
     "output_type": "stream",
     "text": [
      "/tmp/ipykernel_519743/244354228.py:48: FutureWarning: In a future version of pandas all arguments of DataFrame.drop except for the argument 'labels' will be keyword-only.\n",
      "  df = df.drop(\"H2_2-1_S(1)/1-0_S(1)\", 1)\n"
     ]
    }
   ],
   "source": [
    "df = df.rename(\n",
    "    columns={\n",
    "        \"CO_(4-3)\": \"co_v0_j4__v0_j3\",\n",
    "        \"CO_(5-4)\": \"co_v0_j5__v0_j4\",\n",
    "        \"CO_(6-5)\": \"co_v0_j6__v0_j5\",\n",
    "        \"CO_(7-6)\": \"co_v0_j7__v0_j6\",\n",
    "        \"CO_(8-7)\": \"co_v0_j8__v0_j7\",\n",
    "        \"CO_(9-8)\": \"co_v0_j9__v0_j8\",\n",
    "        \"CO_(10-9)\": \"co_v0_j10__v0_j9\",\n",
    "        \"CO_(11-10)\": \"co_v0_j11__v0_j10\",\n",
    "        \"CO_(12-11)\": \"co_v0_j12__v0_j11\",\n",
    "        \"CO_(13-12)\": \"co_v0_j13__v0_j12\",\n",
    "        \"CO_(15-14)\": \"co_v0_j15__v0_j14\",\n",
    "        \"CO_(16-15)\": \"co_v0_j16__v0_j15\",\n",
    "        \"CO_(17-16)\": \"co_v0_j17__v0_j16\",\n",
    "        \"CO_(18-17)\": \"co_v0_j18__v0_j17\",\n",
    "        \"CO_(19-18)\": \"co_v0_j19__v0_j18\",\n",
    "        \"13CO_(5-4)\": \"13c_o_j5__j4\",\n",
    "        \"13CO_(6-5)\": \"13c_o_j6__j5\",\n",
    "        \"13CO_(7-6)\": \"13c_o_j7__j6\",\n",
    "        \"13CO_(8-7)\": \"13c_o_j8__j7\",\n",
    "        \"13CO_(9-8)\": \"13c_o_j9__j8\",\n",
    "        \"13CO_(10-9)\": \"13c_o_j10__j9\",\n",
    "        \"C18O_(5-4)\": \"c_18o_j5__j4\",\n",
    "        \"C18O_(9-8)\": \"c_18o_j9__j8\",\n",
    "        \"CH+_(1-0)\": \"chp_j1__j0\",\n",
    "        \"CH+_(2-1)\": \"chp_j2__j1\",\n",
    "        \"CH+_(3-2)\": \"chp_j3__j2\",\n",
    "        \"HCO+_(1-0)\": \"hcop_j1__j0\",\n",
    "        \"HCO+_(6-5)\": \"hcop_j6__j5\",\n",
    "        \"C+\": \"cp_el2p_j3_2__el2p_j1_2\",\n",
    "        \"C_609_microns\": \"c_el3p_j1__el3p_j0\",\n",
    "        \"C_370_microns\": \"c_el3p_j2__el3p_j1\",\n",
    "        \"O_145_microns\": \"o_el3p_j0__el3p_j1\",\n",
    "        \"O_63_microns\": \"o_el3p_j1__el3p_j2\",\n",
    "        \"HD_112_microns\": \"hd_v0_j1__v0_j0\",\n",
    "        \"H2_0-0_S(0)\": \"h2_v0_j2__v0_j0\",\n",
    "        \"H2_0-0_S(1)\": \"h2_v0_j3__v0_j1\",\n",
    "        \"H2_0-0_S(2)\": \"h2_v0_j4__v0_j2\",\n",
    "        \"H2_0-0_S(3)\": \"h2_v0_j5__v0_j3\",\n",
    "        \"H2_0-0_S(4)\": \"h2_v0_j6__v0_j4\",\n",
    "        \"H2_0-0_S(5)\": \"h2_v0_j7__v0_j5\",\n",
    "        \"H2_1-0_S(1)\": \"h2_v1_j3__v0_j1\",\n",
    "        \"H2_1-0_S(2)\": \"h2_v1_j4__v0_j2\",\n",
    "        # \"H2_2-1_S(1)/1-0_S(1)\": \"\",\n",
    "    }\n",
    ")\n",
    "df = df.drop(\"H2_2-1_S(1)/1-0_S(1)\", 1)"
   ]
  },
  {
   "cell_type": "code",
   "execution_count": 13,
   "metadata": {},
   "outputs": [],
   "source": [
    "# write_data(df, \"./Nebula_NGC_7023_Err_fit.dat\")"
   ]
  },
  {
   "cell_type": "code",
   "execution_count": 14,
   "metadata": {},
   "outputs": [],
   "source": [
    "df.to_pickle(f\"./Nebula_NGC_7023_{mode}.pkl\")"
   ]
  },
  {
   "cell_type": "code",
   "execution_count": 1,
   "metadata": {},
   "outputs": [],
   "source": [
    "import yaml\n",
    "\n",
    "with open(f\"input_params.yaml\") as f:\n",
    "    params = yaml.safe_load(f)"
   ]
  },
  {
   "cell_type": "code",
   "execution_count": 6,
   "metadata": {},
   "outputs": [
    {
     "data": {
      "text/plain": [
       "False"
      ]
     },
     "execution_count": 6,
     "metadata": {},
     "output_type": "execute_result"
    }
   ],
   "source": [
    "import numpy as np\n",
    "\n",
    "np.isfinite(params[\"run_params\"][\"mcmc\"][\"regu_spatial_N0\"])"
   ]
  },
  {
   "cell_type": "code",
   "execution_count": null,
   "metadata": {},
   "outputs": [],
   "source": []
  }
 ],
 "metadata": {
  "kernelspec": {
   "display_name": ".venv",
   "language": "python",
   "name": "python3"
  },
  "language_info": {
   "codemirror_mode": {
    "name": "ipython",
    "version": 3
   },
   "file_extension": ".py",
   "mimetype": "text/x-python",
   "name": "python",
   "nbconvert_exporter": "python",
   "pygments_lexer": "ipython3",
   "version": "3.9.0"
  },
  "orig_nbformat": 4,
  "vscode": {
   "interpreter": {
    "hash": "c71d960b0e9c219939443a4ea96610eb4fd9a31aecd1bd6ea95085e78eaf30fb"
   }
  }
 },
 "nbformat": 4,
 "nbformat_minor": 2
}
