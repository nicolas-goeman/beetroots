{
 "cells": [
  {
   "cell_type": "code",
   "execution_count": 14,
   "metadata": {},
   "outputs": [],
   "source": [
    "import numpy as np\n",
    "import pandas as pd"
   ]
  },
  {
   "cell_type": "code",
   "execution_count": 15,
   "metadata": {},
   "outputs": [],
   "source": [
    "def _read_observation_file(filename):\n",
    "    df = pd.read_csv(filename, sep=r\" \\s+\", engine=\"python\")\n",
    "    return df\n",
    "\n",
    "\n",
    "def write_data(df, filename_out):\n",
    "    \"\"\"writes the data extracted from input and result files to\n",
    "    filename_out\n",
    "\n",
    "    Parameters\n",
    "    ----------\n",
    "    df : pd.DataFrame\n",
    "        data to be written\n",
    "    filename_out : string\n",
    "        name of the output file in which the data should be written\n",
    "    \"\"\"\n",
    "    header = \"   \".join(df.columns) + \"\\n\"\n",
    "\n",
    "    with open(filename_out, \"w\") as f:\n",
    "        f.write(header)\n",
    "\n",
    "    # convert the list of dicts to a dataframe\n",
    "    for col in df.columns[1:]:\n",
    "        df[col] = df[col].apply(lambda x: f\"{float(x):.4E}\")\n",
    "\n",
    "    # fuse the columns of the dataframe\n",
    "    df_1col = df.apply(lambda row: \"   \".join(list(row)) + \"\\n\", 1)\n",
    "\n",
    "    # save to output file\n",
    "    with open(filename_out, \"a\") as f:\n",
    "        for i in range(len(df_1col)):\n",
    "            f.write(df_1col.at[i])"
   ]
  },
  {
   "cell_type": "code",
   "execution_count": 21,
   "metadata": {},
   "outputs": [
    {
     "data": {
      "text/html": [
       "<div>\n",
       "<style scoped>\n",
       "    .dataframe tbody tr th:only-of-type {\n",
       "        vertical-align: middle;\n",
       "    }\n",
       "\n",
       "    .dataframe tbody tr th {\n",
       "        vertical-align: top;\n",
       "    }\n",
       "\n",
       "    .dataframe thead th {\n",
       "        text-align: right;\n",
       "    }\n",
       "</style>\n",
       "<table border=\"1\" class=\"dataframe\">\n",
       "  <thead>\n",
       "    <tr style=\"text-align: right;\">\n",
       "      <th></th>\n",
       "      <th>X_Y</th>\n",
       "      <th>13CO J=1-0</th>\n",
       "      <th>C18O J=1-0</th>\n",
       "      <th>C2H N=1-0 J=3/2-1/2 F=2-1</th>\n",
       "      <th>C3H2 J=2-1 K+=1-0 K-=2-1</th>\n",
       "      <th>CN N=1-0 J=3/2-1/2</th>\n",
       "      <th>CO J=1-0</th>\n",
       "      <th>CS J=2-1</th>\n",
       "      <th>HCN J=1-0 F=2-1</th>\n",
       "      <th>HCO+ J=1-0</th>\n",
       "      <th>HNC J=1-0</th>\n",
       "      <th>SO J=3-2 K=2-1</th>\n",
       "    </tr>\n",
       "  </thead>\n",
       "  <tbody>\n",
       "    <tr>\n",
       "      <th>0</th>\n",
       "      <td>0_0</td>\n",
       "      <td>6.171144e-11</td>\n",
       "      <td>5.672167e-11</td>\n",
       "      <td>4.656933e-11</td>\n",
       "      <td>2.799929e-11</td>\n",
       "      <td>1.154137e-10</td>\n",
       "      <td>1.914585e-10</td>\n",
       "      <td>3.766541e-11</td>\n",
       "      <td>2.101130e-11</td>\n",
       "      <td>3.149632e-11</td>\n",
       "      <td>3.133749e-11</td>\n",
       "      <td>3.868887e-11</td>\n",
       "    </tr>\n",
       "    <tr>\n",
       "      <th>1</th>\n",
       "      <td>1_0</td>\n",
       "      <td>5.872485e-11</td>\n",
       "      <td>4.992434e-11</td>\n",
       "      <td>3.727288e-11</td>\n",
       "      <td>3.259066e-11</td>\n",
       "      <td>1.263256e-10</td>\n",
       "      <td>1.987235e-10</td>\n",
       "      <td>3.376288e-11</td>\n",
       "      <td>2.497068e-11</td>\n",
       "      <td>2.943097e-11</td>\n",
       "      <td>3.148531e-11</td>\n",
       "      <td>4.153391e-11</td>\n",
       "    </tr>\n",
       "    <tr>\n",
       "      <th>2</th>\n",
       "      <td>2_0</td>\n",
       "      <td>5.944185e-11</td>\n",
       "      <td>5.613867e-11</td>\n",
       "      <td>3.531146e-11</td>\n",
       "      <td>3.542991e-11</td>\n",
       "      <td>1.247487e-10</td>\n",
       "      <td>1.744677e-10</td>\n",
       "      <td>3.519578e-11</td>\n",
       "      <td>2.404212e-11</td>\n",
       "      <td>2.775362e-11</td>\n",
       "      <td>2.469961e-11</td>\n",
       "      <td>3.674046e-11</td>\n",
       "    </tr>\n",
       "    <tr>\n",
       "      <th>3</th>\n",
       "      <td>3_0</td>\n",
       "      <td>5.654097e-11</td>\n",
       "      <td>5.599603e-11</td>\n",
       "      <td>4.134484e-11</td>\n",
       "      <td>3.738849e-11</td>\n",
       "      <td>1.270882e-10</td>\n",
       "      <td>1.912750e-10</td>\n",
       "      <td>3.848754e-11</td>\n",
       "      <td>2.658703e-11</td>\n",
       "      <td>2.766454e-11</td>\n",
       "      <td>2.913566e-11</td>\n",
       "      <td>4.078152e-11</td>\n",
       "    </tr>\n",
       "    <tr>\n",
       "      <th>4</th>\n",
       "      <td>4_0</td>\n",
       "      <td>5.844811e-11</td>\n",
       "      <td>6.079011e-11</td>\n",
       "      <td>3.672464e-11</td>\n",
       "      <td>4.388087e-11</td>\n",
       "      <td>1.243101e-10</td>\n",
       "      <td>1.752379e-10</td>\n",
       "      <td>3.883690e-11</td>\n",
       "      <td>2.648559e-11</td>\n",
       "      <td>3.550283e-11</td>\n",
       "      <td>3.130894e-11</td>\n",
       "      <td>3.656091e-11</td>\n",
       "    </tr>\n",
       "  </tbody>\n",
       "</table>\n",
       "</div>"
      ],
      "text/plain": [
       "   X_Y    13CO J=1-0    C18O J=1-0  C2H N=1-0 J=3/2-1/2 F=2-1  \\\n",
       "0  0_0  6.171144e-11  5.672167e-11               4.656933e-11   \n",
       "1  1_0  5.872485e-11  4.992434e-11               3.727288e-11   \n",
       "2  2_0  5.944185e-11  5.613867e-11               3.531146e-11   \n",
       "3  3_0  5.654097e-11  5.599603e-11               4.134484e-11   \n",
       "4  4_0  5.844811e-11  6.079011e-11               3.672464e-11   \n",
       "\n",
       "   C3H2 J=2-1 K+=1-0 K-=2-1  CN N=1-0 J=3/2-1/2      CO J=1-0      CS J=2-1  \\\n",
       "0              2.799929e-11        1.154137e-10  1.914585e-10  3.766541e-11   \n",
       "1              3.259066e-11        1.263256e-10  1.987235e-10  3.376288e-11   \n",
       "2              3.542991e-11        1.247487e-10  1.744677e-10  3.519578e-11   \n",
       "3              3.738849e-11        1.270882e-10  1.912750e-10  3.848754e-11   \n",
       "4              4.388087e-11        1.243101e-10  1.752379e-10  3.883690e-11   \n",
       "\n",
       "   HCN J=1-0 F=2-1    HCO+ J=1-0     HNC J=1-0  SO J=3-2 K=2-1  \n",
       "0     2.101130e-11  3.149632e-11  3.133749e-11    3.868887e-11  \n",
       "1     2.497068e-11  2.943097e-11  3.148531e-11    4.153391e-11  \n",
       "2     2.404212e-11  2.775362e-11  2.469961e-11    3.674046e-11  \n",
       "3     2.658703e-11  2.766454e-11  2.913566e-11    4.078152e-11  \n",
       "4     2.648559e-11  3.550283e-11  3.130894e-11    3.656091e-11  "
      ]
     },
     "execution_count": 21,
     "metadata": {},
     "output_type": "execute_result"
    }
   ],
   "source": [
    "mode = \"err\"\n",
    "df = _read_observation_file(f\"./horsehead-{mode}-cgs_full.dat\")\n",
    "df.head()"
   ]
  },
  {
   "cell_type": "code",
   "execution_count": 22,
   "metadata": {},
   "outputs": [
    {
     "name": "stdout",
     "output_type": "stream",
     "text": [
      "X_Y\n",
      "13CO J=1-0\n",
      "C18O J=1-0\n",
      "C2H N=1-0 J=3/2-1/2 F=2-1\n",
      "C3H2 J=2-1 K+=1-0 K-=2-1\n",
      "CN N=1-0 J=3/2-1/2\n",
      "CO J=1-0\n",
      "CS J=2-1\n",
      "HCN J=1-0 F=2-1\n",
      "HCO+ J=1-0\n",
      "HNC J=1-0\n",
      "SO J=3-2 K=2-1\n"
     ]
    }
   ],
   "source": [
    "for col in df.columns:\n",
    "    print(col)"
   ]
  },
  {
   "cell_type": "code",
   "execution_count": 23,
   "metadata": {},
   "outputs": [],
   "source": [
    "list_cols_used = [\n",
    "    \"X_Y\",\n",
    "    \"CO J=1-0\",\n",
    "    # \"13CO J=1-0\",\n",
    "    # \"C18O J=1-0\",\n",
    "    \"C2H N=1-0 J=3/2-1/2 F=2-1\",\n",
    "    \"C3H2 J=2-1 K+=1-0 K-=2-1\",\n",
    "    # \"CN N=1-0 J=3/2-1/2\",\n",
    "    \"CS J=2-1\",\n",
    "    \"HCN J=1-0 F=2-1\",\n",
    "    \"HCO+ J=1-0\",\n",
    "    \"HNC J=1-0\",\n",
    "    \"SO J=3-2 K=2-1\",\n",
    "]\n",
    "# assert len(list_cols_used) == 23 + 1, len(list_cols_used)"
   ]
  },
  {
   "cell_type": "code",
   "execution_count": 24,
   "metadata": {},
   "outputs": [],
   "source": [
    "df = df.loc[:, list_cols_used]"
   ]
  },
  {
   "cell_type": "code",
   "execution_count": 25,
   "metadata": {},
   "outputs": [],
   "source": [
    "write_data(df, f\"./horsehead-{mode}-cgs_fit.dat\")"
   ]
  },
  {
   "cell_type": "code",
   "execution_count": null,
   "metadata": {},
   "outputs": [],
   "source": []
  },
  {
   "cell_type": "code",
   "execution_count": 1,
   "metadata": {},
   "outputs": [],
   "source": [
    "import pandas as pd"
   ]
  },
  {
   "cell_type": "code",
   "execution_count": 15,
   "metadata": {},
   "outputs": [],
   "source": [
    "df = pd.read_pickle(\"./horsehead-int.pkl\")\n",
    "N = len(df)"
   ]
  },
  {
   "cell_type": "code",
   "execution_count": 16,
   "metadata": {},
   "outputs": [
    {
     "data": {
      "text/plain": [
       "(2226, 11)"
      ]
     },
     "execution_count": 16,
     "metadata": {},
     "output_type": "execute_result"
    }
   ],
   "source": [
    "df.shape"
   ]
  },
  {
   "cell_type": "code",
   "execution_count": 8,
   "metadata": {},
   "outputs": [],
   "source": [
    "list_lines = [\n",
    "    \"co_v0_j1__v0_j0\",\n",
    "    \"cn_n1_j1d5__n0_j0d5\",\n",
    "    \"cs_j2__j1\",\n",
    "    \"so_n2_j3__n1_j2\",\n",
    "    \"hcop_j1__j0\",\n",
    "    \"hcn_j1_f2__j0_f1\",\n",
    "    \"hnc_j1__j0\",\n",
    "    \"c2h_n1d0_j1d5_f2d0__n0d0_j0d5_f1d0\",\n",
    "    \"13c_o_j1__j0\",\n",
    "    \"c_18o_j1__j0\",\n",
    "    \"c_c3h2_j2_ka1_kc2__j1_ka0_kc1\",\n",
    "]"
   ]
  },
  {
   "cell_type": "code",
   "execution_count": 9,
   "metadata": {},
   "outputs": [
    {
     "data": {
      "text/html": [
       "<div>\n",
       "<style scoped>\n",
       "    .dataframe tbody tr th:only-of-type {\n",
       "        vertical-align: middle;\n",
       "    }\n",
       "\n",
       "    .dataframe tbody tr th {\n",
       "        vertical-align: top;\n",
       "    }\n",
       "\n",
       "    .dataframe thead th {\n",
       "        text-align: right;\n",
       "    }\n",
       "</style>\n",
       "<table border=\"1\" class=\"dataframe\">\n",
       "  <thead>\n",
       "    <tr style=\"text-align: right;\">\n",
       "      <th></th>\n",
       "      <th>ell</th>\n",
       "      <th>line</th>\n",
       "      <th>a0_best</th>\n",
       "      <th>a1_best</th>\n",
       "      <th>target_best</th>\n",
       "    </tr>\n",
       "    <tr>\n",
       "      <th>n</th>\n",
       "      <th></th>\n",
       "      <th></th>\n",
       "      <th></th>\n",
       "      <th></th>\n",
       "      <th></th>\n",
       "    </tr>\n",
       "  </thead>\n",
       "  <tbody>\n",
       "    <tr>\n",
       "      <th>0</th>\n",
       "      <td>0</td>\n",
       "      <td>co_v0_j1__v0_j0</td>\n",
       "      <td>3.0</td>\n",
       "      <td>0.01</td>\n",
       "      <td>None</td>\n",
       "    </tr>\n",
       "    <tr>\n",
       "      <th>0</th>\n",
       "      <td>1</td>\n",
       "      <td>cn_n1_j1d5__n0_j0d5</td>\n",
       "      <td>3.0</td>\n",
       "      <td>0.01</td>\n",
       "      <td>None</td>\n",
       "    </tr>\n",
       "    <tr>\n",
       "      <th>0</th>\n",
       "      <td>2</td>\n",
       "      <td>cs_j2__j1</td>\n",
       "      <td>3.0</td>\n",
       "      <td>0.01</td>\n",
       "      <td>None</td>\n",
       "    </tr>\n",
       "    <tr>\n",
       "      <th>0</th>\n",
       "      <td>3</td>\n",
       "      <td>so_n2_j3__n1_j2</td>\n",
       "      <td>3.0</td>\n",
       "      <td>0.01</td>\n",
       "      <td>None</td>\n",
       "    </tr>\n",
       "    <tr>\n",
       "      <th>0</th>\n",
       "      <td>4</td>\n",
       "      <td>hcop_j1__j0</td>\n",
       "      <td>3.0</td>\n",
       "      <td>0.01</td>\n",
       "      <td>None</td>\n",
       "    </tr>\n",
       "  </tbody>\n",
       "</table>\n",
       "</div>"
      ],
      "text/plain": [
       "   ell                 line  a0_best  a1_best target_best\n",
       "n                                                        \n",
       "0    0      co_v0_j1__v0_j0      3.0     0.01        None\n",
       "0    1  cn_n1_j1d5__n0_j0d5      3.0     0.01        None\n",
       "0    2            cs_j2__j1      3.0     0.01        None\n",
       "0    3      so_n2_j3__n1_j2      3.0     0.01        None\n",
       "0    4          hcop_j1__j0      3.0     0.01        None"
      ]
     },
     "execution_count": 9,
     "metadata": {},
     "output_type": "execute_result"
    }
   ],
   "source": [
    "list_dicts = []\n",
    "for n in range(N):\n",
    "    for ell, line in enumerate(list_lines):\n",
    "        dict_ = {\n",
    "            \"n\": n,\n",
    "            \"ell\": ell,\n",
    "            \"line\": line,\n",
    "            \"a0_best\": 3.0,\n",
    "            \"a1_best\": 0.01,\n",
    "            \"target_best\": None,\n",
    "        }\n",
    "        list_dicts.append(dict_)\n",
    "\n",
    "df_params_gaussian = pd.DataFrame.from_records(list_dicts, index=\"n\")\n",
    "df_params_gaussian.head()"
   ]
  },
  {
   "cell_type": "code",
   "execution_count": 10,
   "metadata": {},
   "outputs": [],
   "source": [
    "df_params_gaussian.to_csv(\"./params_for_gaussian_only.csv\")"
   ]
  },
  {
   "cell_type": "code",
   "execution_count": null,
   "metadata": {},
   "outputs": [],
   "source": []
  }
 ],
 "metadata": {
  "kernelspec": {
   "display_name": ".venv",
   "language": "python",
   "name": "python3"
  },
  "language_info": {
   "codemirror_mode": {
    "name": "ipython",
    "version": 3
   },
   "file_extension": ".py",
   "mimetype": "text/x-python",
   "name": "python",
   "nbconvert_exporter": "python",
   "pygments_lexer": "ipython3",
   "version": "3.9.0"
  },
  "orig_nbformat": 4,
  "vscode": {
   "interpreter": {
    "hash": "8990051e33be11253180a2268aa7e7fedf1600cf705160b10e7c8a9e7273b5e2"
   }
  }
 },
 "nbformat": 4,
 "nbformat_minor": 2
}
